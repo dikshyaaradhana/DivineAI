{
 "cells": [
  {
   "cell_type": "code",
   "execution_count": null,
   "id": "13e2ad90",
   "metadata": {},
   "outputs": [],
   "source": [
    "#Q1\n",
    "l=input(\"Enter your value of length:\")\n",
    "print(l)\n",
    "b=input(\"Enter your value of breadth:\")\n",
    "print(b)\n",
    "print(\"This shape is a square\") if l==b else print(\"This shape is a rectangle\")"
   ]
  },
  {
   "cell_type": "code",
   "execution_count": null,
   "id": "f1735efd",
   "metadata": {},
   "outputs": [],
   "source": [
    "#Q2\n",
    "a=input(\"Enter the your value for first number:\")\n",
    "print(a)\n",
    "b=input(\"Enter the value for second number:\")\n",
    "print(b)\n",
    "print(\"a>b\") if a>b  else print(\"a<b\") if a<b else print(\"a==b\")"
   ]
  },
  {
   "cell_type": "code",
   "execution_count": null,
   "id": "d9277fa7",
   "metadata": {},
   "outputs": [],
   "source": [
    "#Q3\n",
    "a=int(input(\"enter first number\"))\n",
    "b=int(input(\"enter second number\"))\n",
    "print(f\"{a} is greater\") if a>b else print(\"Both are equal\") if a==b else print(f\"{b} is greater\")"
   ]
  },
  {
   "cell_type": "code",
   "execution_count": null,
   "id": "98017e1e",
   "metadata": {},
   "outputs": [],
   "source": [
    "#Q4\n",
    "n=int(input(\"Enter Number:\"))\n",
    "sum=0\n",
    "for num in range(0, n+1, 1):\n",
    "    sum = sum+num\n",
    "print(sum)"
   ]
  },
  {
   "cell_type": "code",
   "execution_count": null,
   "id": "ab9e3020",
   "metadata": {},
   "outputs": [],
   "source": [
    "#Q5\n",
    "list1=[]\n",
    "n = int(input(\"Enter number of elements : \"))\n",
    "for i in range(0, n):\n",
    "    ele=int(input())\n",
    "    list1.append(ele) \n",
    "print(list1)\n",
    "list1.sort()\n",
    "print(list1)\n",
    "list1.sort(reverse=True)\n",
    "print(list1)"
   ]
  },
  {
   "cell_type": "code",
   "execution_count": null,
   "id": "4cf73d67",
   "metadata": {},
   "outputs": [],
   "source": [
    "#Q6\n",
    "l=[i for i in range(0,9) if i<5]\n",
    "print(l)"
   ]
  }
 ],
 "metadata": {
  "kernelspec": {
   "display_name": "Python 3",
   "language": "python",
   "name": "python3"
  },
  "language_info": {
   "codemirror_mode": {
    "name": "ipython",
    "version": 3
   },
   "file_extension": ".py",
   "mimetype": "text/x-python",
   "name": "python",
   "nbconvert_exporter": "python",
   "pygments_lexer": "ipython3",
   "version": "3.8.8"
  }
 },
 "nbformat": 4,
 "nbformat_minor": 5
}
