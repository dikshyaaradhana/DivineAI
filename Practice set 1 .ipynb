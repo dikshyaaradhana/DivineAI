{
 "cells": [
  {
   "cell_type": "markdown",
   "id": "4debfc32",
   "metadata": {},
   "source": [
    "practice set 1 "
   ]
  },
  {
   "cell_type": "code",
   "execution_count": 2,
   "id": "444a29c7",
   "metadata": {},
   "outputs": [
    {
     "name": "stdout",
     "output_type": "stream",
     "text": [
      "The square root of 8.000 is 2.828\n"
     ]
    }
   ],
   "source": [
    "#Find the Square Root\n",
    "num = 8 \n",
    "num_sqrt = num ** 0.5\n",
    "print('The square root of %0.3f is %0.3f'%(num ,num_sqrt))"
   ]
  },
  {
   "cell_type": "code",
   "execution_count": 5,
   "id": "7875f6d5",
   "metadata": {},
   "outputs": [
    {
     "name": "stdout",
     "output_type": "stream",
     "text": [
      "Enter first side: 6\n",
      "Enter second side: 7\n",
      "Enter third side: 8\n",
      "The area of the triangle is 20.33\n"
     ]
    }
   ],
   "source": [
    "#Calculate the Area of a Triangle\n",
    "a = float(input('Enter first side: '))\n",
    "b = float(input('Enter second side: '))\n",
    "c = float(input('Enter third side: '))\n",
    "s = (a + b + c) / 2\n",
    "area = (s*(s-a)*(s-b)*(s-c)) ** 0.5\n",
    "print('The area of the triangle is %0.2f' %area)"
   ]
  },
  {
   "cell_type": "code",
   "execution_count": 8,
   "id": "c2e5f366",
   "metadata": {},
   "outputs": [
    {
     "name": "stdout",
     "output_type": "stream",
     "text": [
      "The solutions are (-0.5833333333333334-0.9965217285917832j) and (-0.5833333333333334+0.9965217285917832j)\n"
     ]
    }
   ],
   "source": [
    "#Solve Quadratic Equation\n",
    "import cmath\n",
    "a = 6\n",
    "b = 7\n",
    "c = 8\n",
    "d = (b**2) - (4*a*c)\n",
    "sol1 = (-b-cmath.sqrt(d))/(2*a)\n",
    "sol2 = (-b+cmath.sqrt(d))/(2*a)\n",
    "print('The solutions are {0} and {1}'.format(sol1,sol2))"
   ]
  },
  {
   "cell_type": "code",
   "execution_count": 9,
   "id": "f50023b6",
   "metadata": {},
   "outputs": [
    {
     "name": "stdout",
     "output_type": "stream",
     "text": [
      "The value of x before swapping: 5\n",
      "The value of y before swapping: 10\n",
      "The value of x after swapping: 10\n",
      "The value of y after swapping: 5\n"
     ]
    }
   ],
   "source": [
    "#Swap Two Variables\n",
    "x = 5\n",
    "y = 10\n",
    "print('The value of x before swapping: {}'.format(x))\n",
    "print('The value of y before swapping: {}'.format(y))\n",
    "x,y=y,x\n",
    "print('The value of x after swapping: {}'.format(x))\n",
    "print('The value of y after swapping: {}'.format(y))"
   ]
  },
  {
   "cell_type": "code",
   "execution_count": 11,
   "id": "7d99fe52",
   "metadata": {},
   "outputs": [
    {
     "name": "stdout",
     "output_type": "stream",
     "text": [
      "7\n"
     ]
    }
   ],
   "source": [
    "#Generate a Random Number\n",
    "import random\n",
    "\n",
    "print(random.randint(0,9))"
   ]
  }
 ],
 "metadata": {
  "kernelspec": {
   "display_name": "Python 3",
   "language": "python",
   "name": "python3"
  },
  "language_info": {
   "codemirror_mode": {
    "name": "ipython",
    "version": 3
   },
   "file_extension": ".py",
   "mimetype": "text/x-python",
   "name": "python",
   "nbconvert_exporter": "python",
   "pygments_lexer": "ipython3",
   "version": "3.8.8"
  }
 },
 "nbformat": 4,
 "nbformat_minor": 5
}
